{
 "cells": [
  {
   "cell_type": "markdown",
   "id": "eaf1a317-6e15-416d-a331-5fed39b92fd2",
   "metadata": {},
   "source": [
    "### Cleaning Data and Analyzing Data before CVEC"
   ]
  },
  {
   "cell_type": "code",
   "execution_count": 12,
   "id": "5b89cad5-cce5-49f3-9895-34025a82c113",
   "metadata": {},
   "outputs": [],
   "source": [
    "import pandas as pd\n",
    "import matplotlib.pyplot as plt\n",
    "from sklearn.model_selection import train_test_split, GridSearchCV\n",
    "from sklearn.pipeline import Pipeline\n",
    "from sklearn.naive_bayes import MultinomialNB\n",
    "from sklearn.linear_model import LogisticRegression\n",
    "from sklearn.metrics import confusion_matrix, plot_confusion_matrix\n",
    "\n",
    "from sklearn.feature_extraction.text import CountVectorizer, TfidfVectorizer\n",
    "import seaborn as sns\n",
    "import matplotlib.pyplot as plt\n",
    "\n"
   ]
  },
  {
   "cell_type": "code",
   "execution_count": 2,
   "id": "dc68ded5-9c7d-4edb-bbba-313d52b8f7b3",
   "metadata": {},
   "outputs": [
    {
     "data": {
      "text/html": [
       "<div>\n",
       "<style scoped>\n",
       "    .dataframe tbody tr th:only-of-type {\n",
       "        vertical-align: middle;\n",
       "    }\n",
       "\n",
       "    .dataframe tbody tr th {\n",
       "        vertical-align: top;\n",
       "    }\n",
       "\n",
       "    .dataframe thead th {\n",
       "        text-align: right;\n",
       "    }\n",
       "</style>\n",
       "<table border=\"1\" class=\"dataframe\">\n",
       "  <thead>\n",
       "    <tr style=\"text-align: right;\">\n",
       "      <th></th>\n",
       "      <th>subreddit</th>\n",
       "      <th>selftext</th>\n",
       "      <th>title</th>\n",
       "    </tr>\n",
       "  </thead>\n",
       "  <tbody>\n",
       "    <tr>\n",
       "      <th>0</th>\n",
       "      <td>nba</td>\n",
       "      <td>I haven't seen both of them play when they wer...</td>\n",
       "      <td>Why is it universally accepted that magic is b...</td>\n",
       "    </tr>\n",
       "    <tr>\n",
       "      <th>1</th>\n",
       "      <td>nba</td>\n",
       "      <td>All the talk is about KD and Kyrie but if thos...</td>\n",
       "      <td>Soo is anyone gonna talk about Ben?</td>\n",
       "    </tr>\n",
       "    <tr>\n",
       "      <th>2</th>\n",
       "      <td>nba</td>\n",
       "      <td>The Detroit Pistons might be in the unique pos...</td>\n",
       "      <td>Theory on the KD Sweepstakes</td>\n",
       "    </tr>\n",
       "    <tr>\n",
       "      <th>3</th>\n",
       "      <td>nba</td>\n",
       "      <td>Obviously the Lakers are and will try to make ...</td>\n",
       "      <td>No matter what the Lakers try to do for LeBron...</td>\n",
       "    </tr>\n",
       "    <tr>\n",
       "      <th>4</th>\n",
       "      <td>nba</td>\n",
       "      <td>NBA players have too much power in terms of te...</td>\n",
       "      <td>Adam silver is the worst commissioner in sports</td>\n",
       "    </tr>\n",
       "  </tbody>\n",
       "</table>\n",
       "</div>"
      ],
      "text/plain": [
       "  subreddit                                           selftext  \\\n",
       "0       nba  I haven't seen both of them play when they wer...   \n",
       "1       nba  All the talk is about KD and Kyrie but if thos...   \n",
       "2       nba  The Detroit Pistons might be in the unique pos...   \n",
       "3       nba  Obviously the Lakers are and will try to make ...   \n",
       "4       nba  NBA players have too much power in terms of te...   \n",
       "\n",
       "                                               title  \n",
       "0  Why is it universally accepted that magic is b...  \n",
       "1                Soo is anyone gonna talk about Ben?  \n",
       "2                       Theory on the KD Sweepstakes  \n",
       "3  No matter what the Lakers try to do for LeBron...  \n",
       "4    Adam silver is the worst commissioner in sports  "
      ]
     },
     "execution_count": 2,
     "metadata": {},
     "output_type": "execute_result"
    }
   ],
   "source": [
    "nba = pd.read_csv('data/nba_important_data.csv')\n",
    "nba.head()"
   ]
  },
  {
   "cell_type": "code",
   "execution_count": 3,
   "id": "6b45e4f2-af55-4606-934e-aa7f2108e553",
   "metadata": {},
   "outputs": [
    {
     "data": {
      "text/html": [
       "<div>\n",
       "<style scoped>\n",
       "    .dataframe tbody tr th:only-of-type {\n",
       "        vertical-align: middle;\n",
       "    }\n",
       "\n",
       "    .dataframe tbody tr th {\n",
       "        vertical-align: top;\n",
       "    }\n",
       "\n",
       "    .dataframe thead th {\n",
       "        text-align: right;\n",
       "    }\n",
       "</style>\n",
       "<table border=\"1\" class=\"dataframe\">\n",
       "  <thead>\n",
       "    <tr style=\"text-align: right;\">\n",
       "      <th></th>\n",
       "      <th>subreddit</th>\n",
       "      <th>selftext</th>\n",
       "      <th>title</th>\n",
       "    </tr>\n",
       "  </thead>\n",
       "  <tbody>\n",
       "    <tr>\n",
       "      <th>0</th>\n",
       "      <td>nfl</td>\n",
       "      <td>NaN</td>\n",
       "      <td>[Highlight] 49ers DB Dre Bly intercepts Matt R...</td>\n",
       "    </tr>\n",
       "    <tr>\n",
       "      <th>1</th>\n",
       "      <td>nfl</td>\n",
       "      <td>NaN</td>\n",
       "      <td>Colin Kaepernick Had 'One Of The Worst Workout...</td>\n",
       "    </tr>\n",
       "    <tr>\n",
       "      <th>2</th>\n",
       "      <td>nfl</td>\n",
       "      <td>[removed]</td>\n",
       "      <td>Which duo would you rather have in their prime...</td>\n",
       "    </tr>\n",
       "    <tr>\n",
       "      <th>3</th>\n",
       "      <td>nfl</td>\n",
       "      <td>NaN</td>\n",
       "      <td>[Highlight] Tomorrow is Chad Pennington's Birt...</td>\n",
       "    </tr>\n",
       "    <tr>\n",
       "      <th>4</th>\n",
       "      <td>nfl</td>\n",
       "      <td>NaN</td>\n",
       "      <td>[Highlight] Tomorrow is Chad Pennington’s birt...</td>\n",
       "    </tr>\n",
       "  </tbody>\n",
       "</table>\n",
       "</div>"
      ],
      "text/plain": [
       "  subreddit   selftext                                              title\n",
       "0       nfl        NaN  [Highlight] 49ers DB Dre Bly intercepts Matt R...\n",
       "1       nfl        NaN  Colin Kaepernick Had 'One Of The Worst Workout...\n",
       "2       nfl  [removed]  Which duo would you rather have in their prime...\n",
       "3       nfl        NaN  [Highlight] Tomorrow is Chad Pennington's Birt...\n",
       "4       nfl        NaN  [Highlight] Tomorrow is Chad Pennington’s birt..."
      ]
     },
     "execution_count": 3,
     "metadata": {},
     "output_type": "execute_result"
    }
   ],
   "source": [
    "nfl = pd.read_csv('data/nfl_important_data.csv')\n",
    "nfl.head()"
   ]
  },
  {
   "cell_type": "markdown",
   "id": "81ff0964-8a5c-48c7-a203-139925489162",
   "metadata": {},
   "source": [
    "When looking at the data the football posts do not have many posts with selftext. For this reason I will be using titles for my X. When creating my new dataframe and model."
   ]
  },
  {
   "cell_type": "code",
   "execution_count": 4,
   "id": "c0dad1fc-56e8-40ab-bf6d-77f3403ef40a",
   "metadata": {},
   "outputs": [
    {
     "data": {
      "text/html": [
       "<div>\n",
       "<style scoped>\n",
       "    .dataframe tbody tr th:only-of-type {\n",
       "        vertical-align: middle;\n",
       "    }\n",
       "\n",
       "    .dataframe tbody tr th {\n",
       "        vertical-align: top;\n",
       "    }\n",
       "\n",
       "    .dataframe thead th {\n",
       "        text-align: right;\n",
       "    }\n",
       "</style>\n",
       "<table border=\"1\" class=\"dataframe\">\n",
       "  <thead>\n",
       "    <tr style=\"text-align: right;\">\n",
       "      <th></th>\n",
       "      <th>subreddit</th>\n",
       "      <th>title</th>\n",
       "    </tr>\n",
       "  </thead>\n",
       "  <tbody>\n",
       "    <tr>\n",
       "      <th>0</th>\n",
       "      <td>nba</td>\n",
       "      <td>Why is it universally accepted that magic is b...</td>\n",
       "    </tr>\n",
       "    <tr>\n",
       "      <th>1</th>\n",
       "      <td>nba</td>\n",
       "      <td>Soo is anyone gonna talk about Ben?</td>\n",
       "    </tr>\n",
       "    <tr>\n",
       "      <th>2</th>\n",
       "      <td>nba</td>\n",
       "      <td>Theory on the KD Sweepstakes</td>\n",
       "    </tr>\n",
       "    <tr>\n",
       "      <th>3</th>\n",
       "      <td>nba</td>\n",
       "      <td>No matter what the Lakers try to do for LeBron...</td>\n",
       "    </tr>\n",
       "    <tr>\n",
       "      <th>4</th>\n",
       "      <td>nba</td>\n",
       "      <td>Adam silver is the worst commissioner in sports</td>\n",
       "    </tr>\n",
       "  </tbody>\n",
       "</table>\n",
       "</div>"
      ],
      "text/plain": [
       "  subreddit                                              title\n",
       "0       nba  Why is it universally accepted that magic is b...\n",
       "1       nba                Soo is anyone gonna talk about Ben?\n",
       "2       nba                       Theory on the KD Sweepstakes\n",
       "3       nba  No matter what the Lakers try to do for LeBron...\n",
       "4       nba    Adam silver is the worst commissioner in sports"
      ]
     },
     "execution_count": 4,
     "metadata": {},
     "output_type": "execute_result"
    }
   ],
   "source": [
    "nba = nba.drop(columns = 'selftext')\n",
    "nba.head()"
   ]
  },
  {
   "cell_type": "code",
   "execution_count": 5,
   "id": "308d6e8b-2394-4b51-9e1c-8d2d5a8b8fc5",
   "metadata": {},
   "outputs": [
    {
     "data": {
      "text/html": [
       "<div>\n",
       "<style scoped>\n",
       "    .dataframe tbody tr th:only-of-type {\n",
       "        vertical-align: middle;\n",
       "    }\n",
       "\n",
       "    .dataframe tbody tr th {\n",
       "        vertical-align: top;\n",
       "    }\n",
       "\n",
       "    .dataframe thead th {\n",
       "        text-align: right;\n",
       "    }\n",
       "</style>\n",
       "<table border=\"1\" class=\"dataframe\">\n",
       "  <thead>\n",
       "    <tr style=\"text-align: right;\">\n",
       "      <th></th>\n",
       "      <th>subreddit</th>\n",
       "      <th>title</th>\n",
       "    </tr>\n",
       "  </thead>\n",
       "  <tbody>\n",
       "    <tr>\n",
       "      <th>0</th>\n",
       "      <td>nfl</td>\n",
       "      <td>[Highlight] 49ers DB Dre Bly intercepts Matt R...</td>\n",
       "    </tr>\n",
       "    <tr>\n",
       "      <th>1</th>\n",
       "      <td>nfl</td>\n",
       "      <td>Colin Kaepernick Had 'One Of The Worst Workout...</td>\n",
       "    </tr>\n",
       "    <tr>\n",
       "      <th>2</th>\n",
       "      <td>nfl</td>\n",
       "      <td>Which duo would you rather have in their prime...</td>\n",
       "    </tr>\n",
       "    <tr>\n",
       "      <th>3</th>\n",
       "      <td>nfl</td>\n",
       "      <td>[Highlight] Tomorrow is Chad Pennington's Birt...</td>\n",
       "    </tr>\n",
       "    <tr>\n",
       "      <th>4</th>\n",
       "      <td>nfl</td>\n",
       "      <td>[Highlight] Tomorrow is Chad Pennington’s birt...</td>\n",
       "    </tr>\n",
       "  </tbody>\n",
       "</table>\n",
       "</div>"
      ],
      "text/plain": [
       "  subreddit                                              title\n",
       "0       nfl  [Highlight] 49ers DB Dre Bly intercepts Matt R...\n",
       "1       nfl  Colin Kaepernick Had 'One Of The Worst Workout...\n",
       "2       nfl  Which duo would you rather have in their prime...\n",
       "3       nfl  [Highlight] Tomorrow is Chad Pennington's Birt...\n",
       "4       nfl  [Highlight] Tomorrow is Chad Pennington’s birt..."
      ]
     },
     "execution_count": 5,
     "metadata": {},
     "output_type": "execute_result"
    }
   ],
   "source": [
    "nfl = nfl.drop(columns = 'selftext')\n",
    "nfl.head()"
   ]
  },
  {
   "cell_type": "code",
   "execution_count": 6,
   "id": "74e69280-18fd-4071-a0be-15fe52b98f2f",
   "metadata": {},
   "outputs": [
    {
     "data": {
      "text/plain": [
       "subreddit    0\n",
       "title        0\n",
       "dtype: int64"
      ]
     },
     "execution_count": 6,
     "metadata": {},
     "output_type": "execute_result"
    }
   ],
   "source": [
    "nba.isnull().sum()"
   ]
  },
  {
   "cell_type": "code",
   "execution_count": 7,
   "id": "bf4e0c95-51d3-404f-ba03-f360d673d57e",
   "metadata": {},
   "outputs": [
    {
     "data": {
      "text/plain": [
       "subreddit    0\n",
       "title        0\n",
       "dtype: int64"
      ]
     },
     "execution_count": 7,
     "metadata": {},
     "output_type": "execute_result"
    }
   ],
   "source": [
    "nfl.isnull().sum()"
   ]
  },
  {
   "cell_type": "markdown",
   "id": "5ccde57e-056e-4123-bff0-11de414e715e",
   "metadata": {},
   "source": [
    "No null values present in the two dataframes that will be combined to create dataframe used for modelling."
   ]
  },
  {
   "cell_type": "code",
   "execution_count": 8,
   "id": "afd8fb8d-d651-4e22-b77c-7b2cacbf6450",
   "metadata": {},
   "outputs": [
    {
     "data": {
      "text/html": [
       "<div>\n",
       "<style scoped>\n",
       "    .dataframe tbody tr th:only-of-type {\n",
       "        vertical-align: middle;\n",
       "    }\n",
       "\n",
       "    .dataframe tbody tr th {\n",
       "        vertical-align: top;\n",
       "    }\n",
       "\n",
       "    .dataframe thead th {\n",
       "        text-align: right;\n",
       "    }\n",
       "</style>\n",
       "<table border=\"1\" class=\"dataframe\">\n",
       "  <thead>\n",
       "    <tr style=\"text-align: right;\">\n",
       "      <th></th>\n",
       "      <th>subreddit</th>\n",
       "      <th>title</th>\n",
       "    </tr>\n",
       "  </thead>\n",
       "  <tbody>\n",
       "    <tr>\n",
       "      <th>0</th>\n",
       "      <td>nba</td>\n",
       "      <td>Why is it universally accepted that magic is b...</td>\n",
       "    </tr>\n",
       "    <tr>\n",
       "      <th>1</th>\n",
       "      <td>nba</td>\n",
       "      <td>Soo is anyone gonna talk about Ben?</td>\n",
       "    </tr>\n",
       "    <tr>\n",
       "      <th>2</th>\n",
       "      <td>nba</td>\n",
       "      <td>Theory on the KD Sweepstakes</td>\n",
       "    </tr>\n",
       "    <tr>\n",
       "      <th>3</th>\n",
       "      <td>nba</td>\n",
       "      <td>No matter what the Lakers try to do for LeBron...</td>\n",
       "    </tr>\n",
       "    <tr>\n",
       "      <th>4</th>\n",
       "      <td>nba</td>\n",
       "      <td>Adam silver is the worst commissioner in sports</td>\n",
       "    </tr>\n",
       "  </tbody>\n",
       "</table>\n",
       "</div>"
      ],
      "text/plain": [
       "  subreddit                                              title\n",
       "0       nba  Why is it universally accepted that magic is b...\n",
       "1       nba                Soo is anyone gonna talk about Ben?\n",
       "2       nba                       Theory on the KD Sweepstakes\n",
       "3       nba  No matter what the Lakers try to do for LeBron...\n",
       "4       nba    Adam silver is the worst commissioner in sports"
      ]
     },
     "execution_count": 8,
     "metadata": {},
     "output_type": "execute_result"
    }
   ],
   "source": [
    "concat_list = [nba,nfl]\n",
    "nba_nfl = pd.concat(concat_list)\n",
    "nba_nfl.head()"
   ]
  },
  {
   "cell_type": "code",
   "execution_count": 9,
   "id": "1ff457ba-9dcb-4ed0-ae1d-e3ea5d9d4774",
   "metadata": {},
   "outputs": [
    {
     "data": {
      "text/plain": [
       "(2000, 2)"
      ]
     },
     "execution_count": 9,
     "metadata": {},
     "output_type": "execute_result"
    }
   ],
   "source": [
    "nba_nfl.shape"
   ]
  },
  {
   "cell_type": "markdown",
   "id": "46b807d7-7b34-4f08-9c3d-b5c3d0b9049e",
   "metadata": {},
   "source": [
    "Shows that dataframes were concatanated correctly."
   ]
  },
  {
   "cell_type": "code",
   "execution_count": 10,
   "id": "158d4d68-42d1-412c-8dae-c4faa4d487b0",
   "metadata": {},
   "outputs": [],
   "source": [
    "nba_nfl.to_csv('data/nba_nfl_modelling_data.csv',index=False)"
   ]
  },
  {
   "cell_type": "code",
   "execution_count": 14,
   "id": "e97a1b22-3d1c-4fd9-a87f-994a5f9a8632",
   "metadata": {},
   "outputs": [
    {
     "data": {
      "image/png": "[encoded data removed]",
      "text/plain": [
       "<Figure size 432x288 with 1 Axes>"
      ]
     },
     "metadata": {
      "needs_background": "light"
     },
     "output_type": "display_data"
    }
   ],
   "source": [
    "nba_nfl.groupby(['subreddit']).count().plot(kind='bar');"
   ]
  },
  {
   "cell_type": "markdown",
   "id": "4041d91f-27d2-4e81-b012-3eb36a7069ef",
   "metadata": {},
   "source": [
    "The amount of posts for both subreddits are equal at 1000 each."
   ]
  },
  {
   "cell_type": "code",
   "execution_count": 29,
   "id": "f487957b-adf2-43ea-aa1f-5fd006b3fc7c",
   "metadata": {},
   "outputs": [
    {
     "data": {
      "text/html": [
       "<div>\n",
       "<style scoped>\n",
       "    .dataframe tbody tr th:only-of-type {\n",
       "        vertical-align: middle;\n",
       "    }\n",
       "\n",
       "    .dataframe tbody tr th {\n",
       "        vertical-align: top;\n",
       "    }\n",
       "\n",
       "    .dataframe thead th {\n",
       "        text-align: right;\n",
       "    }\n",
       "</style>\n",
       "<table border=\"1\" class=\"dataframe\">\n",
       "  <thead>\n",
       "    <tr style=\"text-align: right;\">\n",
       "      <th></th>\n",
       "      <th>subreddit</th>\n",
       "      <th>title</th>\n",
       "      <th>subreddit_word_count</th>\n",
       "    </tr>\n",
       "  </thead>\n",
       "  <tbody>\n",
       "    <tr>\n",
       "      <th>0</th>\n",
       "      <td>nba</td>\n",
       "      <td>Why is it universally accepted that magic is b...</td>\n",
       "      <td>11</td>\n",
       "    </tr>\n",
       "    <tr>\n",
       "      <th>1</th>\n",
       "      <td>nba</td>\n",
       "      <td>Soo is anyone gonna talk about Ben?</td>\n",
       "      <td>7</td>\n",
       "    </tr>\n",
       "    <tr>\n",
       "      <th>2</th>\n",
       "      <td>nba</td>\n",
       "      <td>Theory on the KD Sweepstakes</td>\n",
       "      <td>5</td>\n",
       "    </tr>\n",
       "    <tr>\n",
       "      <th>3</th>\n",
       "      <td>nba</td>\n",
       "      <td>No matter what the Lakers try to do for LeBron...</td>\n",
       "      <td>17</td>\n",
       "    </tr>\n",
       "    <tr>\n",
       "      <th>4</th>\n",
       "      <td>nba</td>\n",
       "      <td>Adam silver is the worst commissioner in sports</td>\n",
       "      <td>8</td>\n",
       "    </tr>\n",
       "  </tbody>\n",
       "</table>\n",
       "</div>"
      ],
      "text/plain": [
       "  subreddit                                              title  \\\n",
       "0       nba  Why is it universally accepted that magic is b...   \n",
       "1       nba                Soo is anyone gonna talk about Ben?   \n",
       "2       nba                       Theory on the KD Sweepstakes   \n",
       "3       nba  No matter what the Lakers try to do for LeBron...   \n",
       "4       nba    Adam silver is the worst commissioner in sports   \n",
       "\n",
       "   subreddit_word_count  \n",
       "0                    11  \n",
       "1                     7  \n",
       "2                     5  \n",
       "3                    17  \n",
       "4                     8  "
      ]
     },
     "execution_count": 29,
     "metadata": {},
     "output_type": "execute_result"
    }
   ],
   "source": [
    "nba_nfl1 = pd.concat(concat_list)\n",
    "listss = []\n",
    "for x in list(nba_nfl1['title']):\n",
    "    a = x.split()\n",
    "    listss.append(len(a))\n",
    "nba_nfl1['subreddit_word_count'] = listss\n",
    "nba_nfl1.head()"
   ]
  },
  {
   "cell_type": "code",
   "execution_count": 30,
   "id": "2557270b-de5f-4af9-a338-2eda4e02572d",
   "metadata": {},
   "outputs": [
    {
     "data": {
      "text/plain": [
       "subreddit\n",
       "nba    14.614\n",
       "nfl    17.115\n",
       "Name: subreddit_word_count, dtype: float64"
      ]
     },
     "execution_count": 30,
     "metadata": {},
     "output_type": "execute_result"
    }
   ],
   "source": [
    "nba_nfl1.groupby(['subreddit'])['subreddit_word_count'].mean()"
   ]
  },
  {
   "cell_type": "markdown",
   "id": "8947efd1-9975-4a09-8963-9c0e3f30b2d1",
   "metadata": {},
   "source": [
    "nfl has an average word count that is 2.5 words larger than nba."
   ]
  },
  {
   "cell_type": "code",
   "execution_count": null,
   "id": "1dc52d5d-d6f2-4fb9-8dc1-9bb6859bac6e",
   "metadata": {},
   "outputs": [],
   "source": []
  },
  {
   "cell_type": "code",
   "execution_count": null,
   "id": "26330796-b9ca-4b7a-921a-aaa0611cafbc",
   "metadata": {},
   "outputs": [],
   "source": []
  },
  {
   "cell_type": "code",
   "execution_count": null,
   "id": "2797c90f-6153-4210-9d97-0158c12cada4",
   "metadata": {},
   "outputs": [],
   "source": []
  },
  {
   "cell_type": "code",
   "execution_count": null,
   "id": "027d2af0-62e8-444d-b771-5ca3ca8131ef",
   "metadata": {},
   "outputs": [],
   "source": []
  },
  {
   "cell_type": "code",
   "execution_count": null,
   "id": "f7fb8b99-d38f-433d-b4b6-c0b947b0fcd0",
   "metadata": {},
   "outputs": [],
   "source": []
  },
  {
   "cell_type": "code",
   "execution_count": null,
   "id": "b667b820-12c7-499d-9403-e5ec8a34bd95",
   "metadata": {},
   "outputs": [],
   "source": []
  },
  {
   "cell_type": "code",
   "execution_count": null,
   "id": "de80d02d-2e07-4d4c-9a6e-91a357e903f4",
   "metadata": {},
   "outputs": [],
   "source": []
  }
 ],
 "metadata": {
  "kernelspec": {
   "display_name": "Python [conda env:dsi]",
   "language": "python",
   "name": "conda-env-dsi-py"
  },
  "language_info": {
   "codemirror_mode": {
    "name": "ipython",
    "version": 3
   },
   "file_extension": ".py",
   "mimetype": "text/x-python",
   "name": "python",
   "nbconvert_exporter": "python",
   "pygments_lexer": "ipython3",
   "version": "3.9.7"
  }
 },
 "nbformat": 4,
 "nbformat_minor": 5
}
