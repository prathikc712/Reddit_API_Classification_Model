{
 "cells": [
  {
   "cell_type": "markdown",
   "id": "b9b57d59-a236-44b3-afde-dac386d61b0d",
   "metadata": {},
   "source": [
    "### Collecting posts from r/nba and r/nfl and saving them in two dataframes"
   ]
  },
  {
   "cell_type": "code",
   "execution_count": 11,
   "id": "664f6b56-302a-4315-b7f1-ae2fef075af8",
   "metadata": {},
   "outputs": [],
   "source": [
    "# Import libaries\n",
    "import pandas as pd\n",
    "import requests\n",
    "from bs4 import BeautifulSoup"
   ]
  },
  {
   "cell_type": "code",
   "execution_count": 12,
   "id": "f28f0c7b-8c75-46c1-8c89-236331ce6437",
   "metadata": {},
   "outputs": [],
   "source": [
    "url = 'https://api.pushshift.io/reddit/search/submission' "
   ]
  },
  {
   "cell_type": "code",
   "execution_count": 46,
   "id": "86616f59-378a-42e3-81c1-44c899fbf89b",
   "metadata": {},
   "outputs": [],
   "source": [
    "lists = ['1d','2d','3d','4d','5d','6d','7d','8d','9d','10d']\n",
    "all_df=pd.DataFrame()\n",
    "for x in lists:\n",
    "    params = { 'subreddit': 'nba','size':100,'before':x}\n",
    "    res = requests.get(url, params)\n",
    "    data = res.json()\n",
    "    posts = data['data']\n",
    "    posts_df = pd.DataFrame(posts)\n",
    "    all_df = pd.concat([all_df, posts_df], axis=0)\n",
    "    "
   ]
  },
  {
   "cell_type": "markdown",
   "id": "7667b146-9e9d-4383-b022-9ae9bbd3f42e",
   "metadata": {},
   "source": [
    "Creating a dataframe with 1000 posts from r/nba"
   ]
  },
  {
   "cell_type": "code",
   "execution_count": 52,
   "id": "edf05e8b-d553-42a9-940b-d9bba781c5b9",
   "metadata": {},
   "outputs": [
    {
     "data": {
      "text/html": [
       "<div>\n",
       "<style scoped>\n",
       "    .dataframe tbody tr th:only-of-type {\n",
       "        vertical-align: middle;\n",
       "    }\n",
       "\n",
       "    .dataframe tbody tr th {\n",
       "        vertical-align: top;\n",
       "    }\n",
       "\n",
       "    .dataframe thead th {\n",
       "        text-align: right;\n",
       "    }\n",
       "</style>\n",
       "<table border=\"1\" class=\"dataframe\">\n",
       "  <thead>\n",
       "    <tr style=\"text-align: right;\">\n",
       "      <th></th>\n",
       "      <th>subreddit</th>\n",
       "      <th>selftext</th>\n",
       "      <th>title</th>\n",
       "    </tr>\n",
       "  </thead>\n",
       "  <tbody>\n",
       "    <tr>\n",
       "      <th>0</th>\n",
       "      <td>nba</td>\n",
       "      <td>I haven't seen both of them play when they wer...</td>\n",
       "      <td>Why is it universally accepted that magic is b...</td>\n",
       "    </tr>\n",
       "    <tr>\n",
       "      <th>1</th>\n",
       "      <td>nba</td>\n",
       "      <td>All the talk is about KD and Kyrie but if thos...</td>\n",
       "      <td>Soo is anyone gonna talk about Ben?</td>\n",
       "    </tr>\n",
       "    <tr>\n",
       "      <th>2</th>\n",
       "      <td>nba</td>\n",
       "      <td>The Detroit Pistons might be in the unique pos...</td>\n",
       "      <td>Theory on the KD Sweepstakes</td>\n",
       "    </tr>\n",
       "    <tr>\n",
       "      <th>3</th>\n",
       "      <td>nba</td>\n",
       "      <td>Obviously the Lakers are and will try to make ...</td>\n",
       "      <td>No matter what the Lakers try to do for LeBron...</td>\n",
       "    </tr>\n",
       "    <tr>\n",
       "      <th>4</th>\n",
       "      <td>nba</td>\n",
       "      <td>NBA players have too much power in terms of te...</td>\n",
       "      <td>Adam silver is the worst commissioner in sports</td>\n",
       "    </tr>\n",
       "  </tbody>\n",
       "</table>\n",
       "</div>"
      ],
      "text/plain": [
       "  subreddit                                           selftext  \\\n",
       "0       nba  I haven't seen both of them play when they wer...   \n",
       "1       nba  All the talk is about KD and Kyrie but if thos...   \n",
       "2       nba  The Detroit Pistons might be in the unique pos...   \n",
       "3       nba  Obviously the Lakers are and will try to make ...   \n",
       "4       nba  NBA players have too much power in terms of te...   \n",
       "\n",
       "                                               title  \n",
       "0  Why is it universally accepted that magic is b...  \n",
       "1                Soo is anyone gonna talk about Ben?  \n",
       "2                       Theory on the KD Sweepstakes  \n",
       "3  No matter what the Lakers try to do for LeBron...  \n",
       "4    Adam silver is the worst commissioner in sports  "
      ]
     },
     "execution_count": 52,
     "metadata": {},
     "output_type": "execute_result"
    }
   ],
   "source": [
    "nba = all_df[['subreddit','selftext','title']]\n",
    "nba.head()"
   ]
  },
  {
   "cell_type": "code",
   "execution_count": 53,
   "id": "19f5f546-f941-4da7-a6ae-4ee71a1aa949",
   "metadata": {},
   "outputs": [],
   "source": [
    "all_df.to_csv('data/nba_all_data.csv', index=False)"
   ]
  },
  {
   "cell_type": "code",
   "execution_count": 54,
   "id": "6eee13cf-5d4d-4fb4-98b5-12c0840a1ae5",
   "metadata": {},
   "outputs": [],
   "source": [
    "nba.to_csv('data/nba_important_data.csv', index=False)"
   ]
  },
  {
   "cell_type": "code",
   "execution_count": 59,
   "id": "b5d904e6-7d4b-4c39-8b73-5655b2c1ad56",
   "metadata": {},
   "outputs": [],
   "source": [
    "lists = ['1d','2d','3d','4d','5d','6d','7d','8d','9d','10d']\n",
    "all_df_nfl=pd.DataFrame()\n",
    "for x in lists:\n",
    "    params = { 'subreddit': 'nfl','size':100,'before':x}\n",
    "    res = requests.get(url, params)\n",
    "    data = res.json()\n",
    "    posts = data['data']\n",
    "    posts_df = pd.DataFrame(posts)\n",
    "    all_df_nfl = pd.concat([all_df_nfl, posts_df], axis=0)"
   ]
  },
  {
   "cell_type": "markdown",
   "id": "fe7329b8-2a7f-423b-b8d9-98247227bb0c",
   "metadata": {},
   "source": [
    "Creating a dataframe with 1000 posts from r/nfl"
   ]
  },
  {
   "cell_type": "code",
   "execution_count": 63,
   "id": "57273a63-f487-4982-ae22-456449045f43",
   "metadata": {},
   "outputs": [
    {
     "data": {
      "text/html": [
       "<div>\n",
       "<style scoped>\n",
       "    .dataframe tbody tr th:only-of-type {\n",
       "        vertical-align: middle;\n",
       "    }\n",
       "\n",
       "    .dataframe tbody tr th {\n",
       "        vertical-align: top;\n",
       "    }\n",
       "\n",
       "    .dataframe thead th {\n",
       "        text-align: right;\n",
       "    }\n",
       "</style>\n",
       "<table border=\"1\" class=\"dataframe\">\n",
       "  <thead>\n",
       "    <tr style=\"text-align: right;\">\n",
       "      <th></th>\n",
       "      <th>subreddit</th>\n",
       "      <th>selftext</th>\n",
       "      <th>title</th>\n",
       "    </tr>\n",
       "  </thead>\n",
       "  <tbody>\n",
       "    <tr>\n",
       "      <th>0</th>\n",
       "      <td>nfl</td>\n",
       "      <td></td>\n",
       "      <td>[Highlight] 49ers DB Dre Bly intercepts Matt R...</td>\n",
       "    </tr>\n",
       "    <tr>\n",
       "      <th>1</th>\n",
       "      <td>nfl</td>\n",
       "      <td></td>\n",
       "      <td>Colin Kaepernick Had 'One Of The Worst Workout...</td>\n",
       "    </tr>\n",
       "    <tr>\n",
       "      <th>2</th>\n",
       "      <td>nfl</td>\n",
       "      <td>[removed]</td>\n",
       "      <td>Which duo would you rather have in their prime...</td>\n",
       "    </tr>\n",
       "    <tr>\n",
       "      <th>3</th>\n",
       "      <td>nfl</td>\n",
       "      <td></td>\n",
       "      <td>[Highlight] Tomorrow is Chad Pennington's Birt...</td>\n",
       "    </tr>\n",
       "    <tr>\n",
       "      <th>4</th>\n",
       "      <td>nfl</td>\n",
       "      <td></td>\n",
       "      <td>[Highlight] Tomorrow is Chad Pennington’s birt...</td>\n",
       "    </tr>\n",
       "  </tbody>\n",
       "</table>\n",
       "</div>"
      ],
      "text/plain": [
       "  subreddit   selftext                                              title\n",
       "0       nfl             [Highlight] 49ers DB Dre Bly intercepts Matt R...\n",
       "1       nfl             Colin Kaepernick Had 'One Of The Worst Workout...\n",
       "2       nfl  [removed]  Which duo would you rather have in their prime...\n",
       "3       nfl             [Highlight] Tomorrow is Chad Pennington's Birt...\n",
       "4       nfl             [Highlight] Tomorrow is Chad Pennington’s birt..."
      ]
     },
     "execution_count": 63,
     "metadata": {},
     "output_type": "execute_result"
    }
   ],
   "source": [
    "nfl = all_df_nfl[['subreddit','selftext','title']]\n",
    "nfl.head()"
   ]
  },
  {
   "cell_type": "code",
   "execution_count": 64,
   "id": "84818520-d36f-4b12-af3a-51152ddeff76",
   "metadata": {},
   "outputs": [],
   "source": [
    "all_df_nfl.to_csv('data/nfl_all_data.csv', index=False)"
   ]
  },
  {
   "cell_type": "code",
   "execution_count": 65,
   "id": "329c418c-f21d-465c-aeee-c92672a68f97",
   "metadata": {},
   "outputs": [],
   "source": [
    "nfl.to_csv('data/nfl_important_data.csv', index=False)"
   ]
  },
  {
   "cell_type": "code",
   "execution_count": null,
   "id": "6cc8fd30-bdc8-47a4-a3cf-1dfab00fe8e2",
   "metadata": {},
   "outputs": [],
   "source": []
  },
  {
   "cell_type": "code",
   "execution_count": null,
   "id": "1ae53225-74f1-433a-989d-cce26300b93a",
   "metadata": {},
   "outputs": [],
   "source": []
  },
  {
   "cell_type": "code",
   "execution_count": null,
   "id": "390684f4-aab4-4d4e-b0a8-c6b30aa6b9c5",
   "metadata": {},
   "outputs": [],
   "source": []
  },
  {
   "cell_type": "code",
   "execution_count": null,
   "id": "097ec547-a16f-40c6-85db-5345b116f83f",
   "metadata": {},
   "outputs": [],
   "source": []
  },
  {
   "cell_type": "code",
   "execution_count": null,
   "id": "4e09b12f-6b1a-4efa-9e08-b5d28d24518c",
   "metadata": {},
   "outputs": [],
   "source": []
  },
  {
   "cell_type": "code",
   "execution_count": null,
   "id": "468619f4-74c1-4cdd-9376-4f39981f1bf9",
   "metadata": {},
   "outputs": [],
   "source": []
  },
  {
   "cell_type": "code",
   "execution_count": null,
   "id": "5ec7ee64-7c50-4799-95f9-ba857d803a91",
   "metadata": {},
   "outputs": [],
   "source": []
  },
  {
   "cell_type": "code",
   "execution_count": null,
   "id": "a8823729-1539-4efd-a0b1-c4cbb4643926",
   "metadata": {},
   "outputs": [],
   "source": []
  },
  {
   "cell_type": "code",
   "execution_count": null,
   "id": "38e9af76-423f-43ee-b360-30fbab1215af",
   "metadata": {},
   "outputs": [],
   "source": []
  }
 ],
 "metadata": {
  "kernelspec": {
   "display_name": "Python [conda env:dsi]",
   "language": "python",
   "name": "conda-env-dsi-py"
  },
  "language_info": {
   "codemirror_mode": {
    "name": "ipython",
    "version": 3
   },
   "file_extension": ".py",
   "mimetype": "text/x-python",
   "name": "python",
   "nbconvert_exporter": "python",
   "pygments_lexer": "ipython3",
   "version": "3.9.7"
  }
 },
 "nbformat": 4,
 "nbformat_minor": 5
}
